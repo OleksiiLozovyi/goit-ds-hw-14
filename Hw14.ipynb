{
  "nbformat": 4,
  "nbformat_minor": 0,
  "metadata": {
    "colab": {
      "provenance": [],
      "authorship_tag": "ABX9TyO4g8sZmnSjroBPTr+E+a3V",
      "include_colab_link": true
    },
    "kernelspec": {
      "name": "python3",
      "display_name": "Python 3"
    },
    "language_info": {
      "name": "python"
    }
  },
  "cells": [
    {
      "cell_type": "markdown",
      "metadata": {
        "id": "view-in-github",
        "colab_type": "text"
      },
      "source": [
        "<a href=\"https://colab.research.google.com/github/OleksiiLozovyi/goit-ds-hw-14/blob/main/Hw14.ipynb\" target=\"_parent\"><img src=\"https://colab.research.google.com/assets/colab-badge.svg\" alt=\"Open In Colab\"/></a>"
      ]
    },
    {
      "cell_type": "code",
      "execution_count": 1,
      "metadata": {
        "id": "yL9WF4GsdI3t"
      },
      "outputs": [],
      "source": [
        "import numpy as np\n",
        "from tensorflow.keras.datasets import imdb\n",
        "from tensorflow.keras.models import Sequential\n",
        "from tensorflow.keras.layers import SimpleRNN, LSTM, Bidirectional, Dense, Embedding\n",
        "from tensorflow.keras.preprocessing.sequence import pad_sequences"
      ]
    },
    {
      "cell_type": "code",
      "source": [
        "max_features = 10000\n",
        "max_len = 500"
      ],
      "metadata": {
        "id": "p2Qy2a1odNCu"
      },
      "execution_count": 2,
      "outputs": []
    },
    {
      "cell_type": "code",
      "source": [
        "(x_train, y_train), (x_test, y_test) = imdb.load_data(num_words=max_features)"
      ],
      "metadata": {
        "colab": {
          "base_uri": "https://localhost:8080/"
        },
        "id": "vM5eqQ9ndQHo",
        "outputId": "54390fa0-28e3-44f1-e0d9-f4de6206c494"
      },
      "execution_count": 3,
      "outputs": [
        {
          "output_type": "stream",
          "name": "stdout",
          "text": [
            "Downloading data from https://storage.googleapis.com/tensorflow/tf-keras-datasets/imdb.npz\n",
            "\u001b[1m17464789/17464789\u001b[0m \u001b[32m━━━━━━━━━━━━━━━━━━━━\u001b[0m\u001b[37m\u001b[0m \u001b[1m0s\u001b[0m 0us/step\n"
          ]
        }
      ]
    },
    {
      "cell_type": "code",
      "source": [
        "x_train = pad_sequences(x_train, maxlen=max_len)\n",
        "x_test = pad_sequences(x_test, maxlen=max_len)"
      ],
      "metadata": {
        "id": "8BiVCL7edSnr"
      },
      "execution_count": 4,
      "outputs": []
    },
    {
      "cell_type": "code",
      "source": [
        "def train_and_evaluate(model):\n",
        "    model.compile(optimizer=\"adam\", loss=\"binary_crossentropy\", metrics=[\"accuracy\"])\n",
        "    history = model.fit(x_train, y_train, epochs=5, batch_size=64, validation_split=0.2, verbose=2)\n",
        "    test_loss, test_accuracy = model.evaluate(x_test, y_test, verbose=0)\n",
        "    print(f\"Test Accuracy: {test_accuracy:.4f}\")\n",
        "    return history, test_accuracy"
      ],
      "metadata": {
        "id": "qVoKr1hrdVBx"
      },
      "execution_count": 7,
      "outputs": []
    },
    {
      "cell_type": "code",
      "source": [
        "model_rnn = Sequential([\n",
        "    Embedding(max_features, 128, input_length=max_len),\n",
        "    SimpleRNN(64, return_sequences=False),\n",
        "    Dense(1, activation='sigmoid')\n",
        "])"
      ],
      "metadata": {
        "id": "ByISG2IRdXMl"
      },
      "execution_count": 8,
      "outputs": []
    },
    {
      "cell_type": "code",
      "source": [
        "print(\"\\nТренувальна RNN модель\")\n",
        "history_rnn, accuracy_rnn = train_and_evaluate(model_rnn)"
      ],
      "metadata": {
        "colab": {
          "base_uri": "https://localhost:8080/"
        },
        "id": "-w3vSgOrdc8Y",
        "outputId": "15dd4bee-af51-4016-8ddf-992422dbe6b1"
      },
      "execution_count": 10,
      "outputs": [
        {
          "output_type": "stream",
          "name": "stdout",
          "text": [
            "\n",
            "Тренувальна RNN модель\n",
            "Epoch 1/5\n",
            "313/313 - 65s - 207ms/step - accuracy: 0.8484 - loss: 0.3492 - val_accuracy: 0.7670 - val_loss: 0.5608\n",
            "Epoch 2/5\n",
            "313/313 - 62s - 197ms/step - accuracy: 0.8752 - loss: 0.3035 - val_accuracy: 0.7586 - val_loss: 0.5598\n",
            "Epoch 3/5\n",
            "313/313 - 81s - 257ms/step - accuracy: 0.9033 - loss: 0.2504 - val_accuracy: 0.7634 - val_loss: 0.5767\n",
            "Epoch 4/5\n",
            "313/313 - 61s - 195ms/step - accuracy: 0.9132 - loss: 0.2305 - val_accuracy: 0.7608 - val_loss: 0.6299\n",
            "Epoch 5/5\n",
            "313/313 - 63s - 203ms/step - accuracy: 0.9162 - loss: 0.2248 - val_accuracy: 0.7600 - val_loss: 0.6241\n",
            "Test Accuracy: 0.7610\n"
          ]
        }
      ]
    },
    {
      "cell_type": "code",
      "source": [
        "model_lstm = Sequential([\n",
        "    Embedding(max_features, 128, input_length=max_len),\n",
        "    LSTM(64, return_sequences=False),\n",
        "    Dense(1, activation='sigmoid')\n",
        "])"
      ],
      "metadata": {
        "id": "21QFHMjJdksu"
      },
      "execution_count": 11,
      "outputs": []
    },
    {
      "cell_type": "code",
      "source": [
        "print(\"\\nТренувальна LSTM модель\")\n",
        "history_lstm, accuracy_lstm = train_and_evaluate(model_lstm)"
      ],
      "metadata": {
        "colab": {
          "base_uri": "https://localhost:8080/"
        },
        "id": "jKZ4E9uqdnVk",
        "outputId": "e3ccf4c9-8bbf-4130-b8de-44659a42ca6b"
      },
      "execution_count": 12,
      "outputs": [
        {
          "output_type": "stream",
          "name": "stdout",
          "text": [
            "\n",
            "Тренувальна LSTM модель\n",
            "Epoch 1/5\n",
            "313/313 - 201s - 641ms/step - accuracy: 0.7734 - loss: 0.4730 - val_accuracy: 0.8526 - val_loss: 0.3546\n",
            "Epoch 2/5\n",
            "313/313 - 195s - 622ms/step - accuracy: 0.8882 - loss: 0.2811 - val_accuracy: 0.8726 - val_loss: 0.3070\n",
            "Epoch 3/5\n",
            "313/313 - 201s - 642ms/step - accuracy: 0.9240 - loss: 0.2016 - val_accuracy: 0.8566 - val_loss: 0.3475\n",
            "Epoch 4/5\n",
            "313/313 - 189s - 604ms/step - accuracy: 0.9476 - loss: 0.1449 - val_accuracy: 0.8556 - val_loss: 0.4189\n",
            "Epoch 5/5\n",
            "313/313 - 206s - 659ms/step - accuracy: 0.9424 - loss: 0.1447 - val_accuracy: 0.8550 - val_loss: 0.3949\n",
            "Test Accuracy: 0.8508\n"
          ]
        }
      ]
    },
    {
      "cell_type": "code",
      "source": [
        "model_bidirectional = Sequential([\n",
        "    Embedding(max_features, 128, input_length=max_len),\n",
        "    Bidirectional(LSTM(64, return_sequences=False)),\n",
        "    Dense(1, activation='sigmoid')\n",
        "])"
      ],
      "metadata": {
        "id": "fvPiADJBdr4i"
      },
      "execution_count": 13,
      "outputs": []
    },
    {
      "cell_type": "code",
      "source": [
        "print(\"\\nТренувальна бідірекшн LSTM модель\")\n",
        "history_bidirectional, accuracy_bidirectional = train_and_evaluate(model_bidirectional)"
      ],
      "metadata": {
        "colab": {
          "base_uri": "https://localhost:8080/"
        },
        "id": "NAyJDuxLdscy",
        "outputId": "4bfaa2dc-d9ac-4afd-c4c0-a6441e0c8bd1"
      },
      "execution_count": 14,
      "outputs": [
        {
          "output_type": "stream",
          "name": "stdout",
          "text": [
            "\n",
            "Тренувальна бідірекшн LSTM модель\n",
            "Epoch 1/5\n",
            "313/313 - 374s - 1s/step - accuracy: 0.7838 - loss: 0.4624 - val_accuracy: 0.8050 - val_loss: 0.4575\n",
            "Epoch 2/5\n",
            "313/313 - 382s - 1s/step - accuracy: 0.8855 - loss: 0.2925 - val_accuracy: 0.8726 - val_loss: 0.3081\n",
            "Epoch 3/5\n",
            "313/313 - 377s - 1s/step - accuracy: 0.9237 - loss: 0.2051 - val_accuracy: 0.8336 - val_loss: 0.3788\n",
            "Epoch 4/5\n",
            "313/313 - 375s - 1s/step - accuracy: 0.9439 - loss: 0.1578 - val_accuracy: 0.8566 - val_loss: 0.3944\n",
            "Epoch 5/5\n",
            "313/313 - 384s - 1s/step - accuracy: 0.9619 - loss: 0.1131 - val_accuracy: 0.8674 - val_loss: 0.3859\n",
            "Test Accuracy: 0.8598\n"
          ]
        }
      ]
    },
    {
      "cell_type": "code",
      "source": [
        "model_deep = Sequential([\n",
        "    Embedding(max_features, 128, input_length=max_len),\n",
        "    LSTM(64, return_sequences=True),\n",
        "    LSTM(64, return_sequences=False),\n",
        "    Dense(1, activation='sigmoid')\n",
        "])"
      ],
      "metadata": {
        "id": "b-Ms5bOqeHb7"
      },
      "execution_count": 15,
      "outputs": []
    },
    {
      "cell_type": "code",
      "source": [
        "print(\"\\nТренувальна гоибока LSTM модель\")\n",
        "history_deep, accuracy_deep = train_and_evaluate(model_deep)"
      ],
      "metadata": {
        "colab": {
          "base_uri": "https://localhost:8080/"
        },
        "id": "GeIuJhtxeJed",
        "outputId": "02edb2fd-0471-4335-af11-df065b48e6d0"
      },
      "execution_count": 16,
      "outputs": [
        {
          "output_type": "stream",
          "name": "stdout",
          "text": [
            "\n",
            "Тренувальна гоибока LSTM модель\n",
            "Epoch 1/5\n",
            "313/313 - 293s - 937ms/step - accuracy: 0.7934 - loss: 0.4402 - val_accuracy: 0.8640 - val_loss: 0.3276\n",
            "Epoch 2/5\n",
            "313/313 - 320s - 1s/step - accuracy: 0.8890 - loss: 0.2776 - val_accuracy: 0.8546 - val_loss: 0.3578\n",
            "Epoch 3/5\n",
            "313/313 - 321s - 1s/step - accuracy: 0.9254 - loss: 0.1972 - val_accuracy: 0.8648 - val_loss: 0.3202\n",
            "Epoch 4/5\n",
            "313/313 - 329s - 1s/step - accuracy: 0.9462 - loss: 0.1488 - val_accuracy: 0.8724 - val_loss: 0.3578\n",
            "Epoch 5/5\n",
            "313/313 - 286s - 915ms/step - accuracy: 0.9698 - loss: 0.0902 - val_accuracy: 0.8702 - val_loss: 0.4766\n",
            "Test Accuracy: 0.8565\n"
          ]
        }
      ]
    },
    {
      "cell_type": "code",
      "source": [
        "results = {\n",
        "    \"Simple RNN\": accuracy_rnn,\n",
        "    \"LSTM\": accuracy_lstm,\n",
        "    \"Bidirectional LSTM\": accuracy_bidirectional,\n",
        "    \"Deep LSTM\": accuracy_deep\n",
        "}"
      ],
      "metadata": {
        "id": "OYGnKsb9eTp5"
      },
      "execution_count": 17,
      "outputs": []
    },
    {
      "cell_type": "code",
      "source": [
        "print(\"\\nПорівняльна модель\")\n",
        "for model_name, accuracy in results.items():\n",
        "    print(f\"{model_name}: Test Accuracy = {accuracy:.4f}\")"
      ],
      "metadata": {
        "colab": {
          "base_uri": "https://localhost:8080/"
        },
        "id": "4czK-58deWHk",
        "outputId": "0e564a02-4335-4987-c908-998e7e1bb768"
      },
      "execution_count": 18,
      "outputs": [
        {
          "output_type": "stream",
          "name": "stdout",
          "text": [
            "\n",
            "Порівняльна модель\n",
            "Simple RNN: Test Accuracy = 0.7610\n",
            "LSTM: Test Accuracy = 0.8508\n",
            "Bidirectional LSTM: Test Accuracy = 0.8598\n",
            "Deep LSTM: Test Accuracy = 0.8565\n"
          ]
        }
      ]
    }
  ]
}